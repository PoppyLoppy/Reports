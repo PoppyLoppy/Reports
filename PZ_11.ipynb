{
  "nbformat": 4,
  "nbformat_minor": 0,
  "metadata": {
    "colab": {
      "name": "PZ_11.ipynb",
      "provenance": [],
      "authorship_tag": "ABX9TyMuFE1DM4wCI/eZ1nt4SayK",
      "include_colab_link": true
    },
    "kernelspec": {
      "name": "python3",
      "display_name": "Python 3"
    },
    "language_info": {
      "name": "python"
    }
  },
  "cells": [
    {
      "cell_type": "markdown",
      "metadata": {
        "id": "view-in-github",
        "colab_type": "text"
      },
      "source": [
        "<a href=\"https://colab.research.google.com/github/PoppyLoppy/Reports/blob/main/PZ_11.ipynb\" target=\"_parent\"><img src=\"https://colab.research.google.com/assets/colab-badge.svg\" alt=\"Open In Colab\"/></a>"
      ]
    },
    {
      "cell_type": "markdown",
      "source": [
        "Вариант 21"
      ],
      "metadata": {
        "id": "HPaYiFjiPnec"
      }
    },
    {
      "cell_type": "markdown",
      "source": [
        "PZ_3_1"
      ],
      "metadata": {
        "id": "XOFAGKI4PhVA"
      }
    },
    {
      "cell_type": "code",
      "execution_count": 2,
      "metadata": {
        "colab": {
          "base_uri": "https://localhost:8080/"
        },
        "id": "5oh_wTbGOPL2",
        "outputId": "ec321c45-b0f5-415f-b445-5e1b66d18c8e"
      },
      "outputs": [
        {
          "output_type": "stream",
          "name": "stdout",
          "text": [
            "Введите трехзначное число: 34\n",
            "Высказывание истинно!\n"
          ]
        }
      ],
      "source": [
        "a = int(input(\"Введите трехзначное число: \"))\n",
        "while type(a) != int:  # обработка исключений\n",
        "    try:\n",
        "        a = int(a)\n",
        "    except ValueError:\n",
        "        print(\"Введено не целое число:(\")\n",
        "        a = input(\"Введите целое трехзначное число: \")\n",
        "if not a <= 100 and a >= 999:\n",
        "    print(\"Введено не трехзначное число!\")\n",
        "    a = int(input(\"Введите целое трехзначное число: \"))\n",
        "b = a // 100\n",
        "c = (a % 100) // 10\n",
        "d = a % 10\n",
        "if b == c == d:\n",
        "    print(\"Высказывание ложно!\")\n",
        "else:\n",
        "    print(\"Высказывание истинно!\")"
      ]
    },
    {
      "cell_type": "markdown",
      "source": [
        "PZ_4_1"
      ],
      "metadata": {
        "id": "yDy6SBydPj6y"
      }
    },
    {
      "cell_type": "code",
      "source": [
        "x = input(\"Введите первое число до 1: \")\n",
        "\n",
        "while type(x) != float:  # обработка исключений\n",
        "    try:\n",
        "        x = float(x)\n",
        "    except ValueError:\n",
        "        print(\"Неправильный ввод\")\n",
        "        x = float(input(\"Введите первое число до 1: \"))\n",
        "    if type(x) == float and abs(x) >= 1:\n",
        "        print(\"Неправльный ввод!\")\n",
        "        x = float(input(\"Введите первое число до 1: \"))\n",
        "\n",
        "n = input(\"Введите второе число, больше нуля: \")\n",
        "\n",
        "while type(n) != int:  # обработка исключений\n",
        "    try:\n",
        "        n = int(n)\n",
        "    except ValueError:\n",
        "        print(\"Неправильный ввод\")\n",
        "        n = int(input(\"Введите второе целое число: \"))\n",
        "    if type(n) == int and n <= 0:\n",
        "        print(\"неправильный ввод\")\n",
        "        n = int(input(\"Введите второе число, больше нуля\"))\n",
        "\n",
        "s = 0\n",
        "while n != 0:\n",
        "    s += (-1) ** (n - 1) * (x ** n) / n\n",
        "    n -= 1\n",
        "print(float(s))"
      ],
      "metadata": {
        "colab": {
          "base_uri": "https://localhost:8080/"
        },
        "id": "lBF_DIHyOT6_",
        "outputId": "b2d6306b-975f-4b45-cb35-c9cdb9773877"
      },
      "execution_count": 3,
      "outputs": [
        {
          "output_type": "stream",
          "name": "stdout",
          "text": [
            "Введите первое число до 1: 0.3\n",
            "Введите второе число, больше нуля: 2\n",
            "0.255\n"
          ]
        }
      ]
    },
    {
      "cell_type": "markdown",
      "source": [
        "PZ_5_1"
      ],
      "metadata": {
        "id": "YibOq3nfPQgS"
      }
    },
    {
      "cell_type": "code",
      "source": [
        "def sum(n):\n",
        "    s = 0\n",
        "    i = 1\n",
        "    while i <= n:\n",
        "        s += i\n",
        "        i += 1\n",
        "    return s\n",
        "\n",
        "\n",
        "n = int(input(\"Введите последнее число ряда: \"))\n",
        "\n",
        "sum1 = sum(n)\n",
        "print(sum1)"
      ],
      "metadata": {
        "id": "QeCQkus7OU2s"
      },
      "execution_count": null,
      "outputs": []
    }
  ]
}